{
 "cells": [
  {
   "cell_type": "markdown",
   "metadata": {},
   "source": [
    "***\n",
    "<h1 align=\"center\">Exercise 06</h1>\n",
    " \n",
    "***\n",
    "## While Loop\n",
    "## Exercise 6.1\n",
    "isilah bagian rumpang berikut. xx diganti tanggal lahir dan yy diganti menjadi bulan lahir. tandanya menyesuaikan yang lebih besar."
   ]
  },
  {
   "cell_type": "code",
   "execution_count": 1,
   "metadata": {},
   "outputs": [
    {
     "name": "stdout",
     "output_type": "stream",
     "text": [
      "Realistis atau pesimis? Biarkan mereka yang menentukan.\n",
      "Realistis atau pesimis? Biarkan mereka yang menentukan.\n",
      "Realistis atau pesimis? Biarkan mereka yang menentukan.\n",
      "Realistis atau pesimis? Biarkan mereka yang menentukan.\n",
      "Realistis atau pesimis? Biarkan mereka yang menentukan.\n",
      "Realistis atau pesimis? Biarkan mereka yang menentukan.\n",
      "Realistis atau pesimis? Biarkan mereka yang menentukan.\n",
      "Realistis atau pesimis? Biarkan mereka yang menentukan.\n",
      "Realistis atau pesimis? Biarkan mereka yang menentukan.\n",
      "Realistis atau pesimis? Biarkan mereka yang menentukan.\n",
      "Realistis atau pesimis? Biarkan mereka yang menentukan.\n",
      "Realistis atau pesimis? Biarkan mereka yang menentukan.\n",
      "Realistis atau pesimis? Biarkan mereka yang menentukan.\n"
     ]
    }
   ],
   "source": [
    "#menentukan banyak pengulangan\n",
    "n = 14\n",
    "\n",
    "#melakukan pengulangan\n",
    "i = 2\n",
    "\n",
    "while i <= n :\n",
    "    print (\"Realistis atau pesimis? Biarkan mereka yang menentukan.\")\n",
    "    #diisi motto kalian\n",
    "    i = i + 1 # sesuaikan dengan atas agar fungsi perulangan dapat berhenti\n"
   ]
  },
  {
   "cell_type": "markdown",
   "metadata": {},
   "source": [
    "## Exercise 6.2\n",
    "\n",
    "Buatlah code seperti yang dicontohkan pada modul agar user dapat menginputkan sendiri jumlah n yang diinginkan"
   ]
  },
  {
   "cell_type": "code",
   "execution_count": 4,
   "metadata": {},
   "outputs": [
    {
     "name": "stdout",
     "output_type": "stream",
     "text": [
      "10\n",
      "11\n",
      "12\n",
      "13\n",
      "14\n",
      "15\n"
     ]
    }
   ],
   "source": [
    "#Kerjakan disini\n",
    "n = int(input(\"Input nilai n: \"))\n",
    "i = 10\n",
    "while i <= n :\n",
    "    print(i)\n",
    "    i = i + 1\n"
   ]
  },
  {
   "cell_type": "markdown",
   "metadata": {},
   "source": [
    "## Excercise 6.3\n",
    "\n",
    "isilah xx, yy, dan tanda rumpang seperti pada exercise 6.1\n"
   ]
  },
  {
   "cell_type": "code",
   "execution_count": 2,
   "metadata": {},
   "outputs": [
    {
     "name": "stdout",
     "output_type": "stream",
     "text": [
      "Baris ke-14 : Tenet\n",
      "Baris ke-13 : Tenet\n",
      "Baris ke-12 : Tenet\n",
      "Baris ke-11 : Tenet\n",
      "Baris ke-10 : Tenet\n",
      "Baris ke-9 : Tenet\n",
      "Baris ke-8 : Tenet\n",
      "Baris ke-7 : Tenet\n",
      "Baris ke-6 : Tenet\n",
      "Baris ke-5 : Tenet\n",
      "Baris ke-4 : Tenet\n",
      "Baris ke-3 : Tenet\n",
      "Baris ke-2 : Tenet\n"
     ]
    }
   ],
   "source": [
    "#melakukan pengulangan\n",
    "i = 14\n",
    "\n",
    "while i >= 2 :\n",
    "    print (\"Baris ke-%d : Tenet\"%i)\n",
    "    #isi titik-titik dengan judul film favorit kalian\n",
    "    i = i - 1 "
   ]
  },
  {
   "cell_type": "markdown",
   "metadata": {},
   "source": [
    "## FOR LOOP\n",
    "\n",
    "## Exercise 6.4\n",
    "\n",
    "munculkan 3 dari 7 elemen yang berada di dalam list1 dan list2\n"
   ]
  },
  {
   "cell_type": "code",
   "execution_count": 3,
   "metadata": {},
   "outputs": [
    {
     "name": "stdout",
     "output_type": "stream",
     "text": [
      "1 Telor goreng Berlin\n",
      "2 Roti bakar Tokyo\n",
      "3 Burger Nairobi\n"
     ]
    }
   ],
   "source": [
    "list1 = [\"Telor goreng\",\"Roti bakar\",\"Burger\",\"Martabak manis\",\"Pizza\",\"Cilok\",\"Brutu ayam\"] #masukkan 7 list makanan favorit kalian\n",
    "list2 = [\"Berlin\",\"Tokyo\",\"Nairobi\",\"Denver\",\"Palermo\",\"Helsinki\",\"Lisbon\"] #masukkan 7 list kota favorit kalian\n",
    "\n",
    "for i in range(0,3) :\n",
    "    print(i+1, list1[i] , list2[i])"
   ]
  },
  {
   "cell_type": "markdown",
   "metadata": {},
   "source": [
    "## Perulangan Bersarang\n",
    "\n",
    "## Exercise 6.5"
   ]
  },
  {
   "cell_type": "code",
   "execution_count": 9,
   "metadata": {},
   "outputs": [
    {
     "name": "stdout",
     "output_type": "stream",
     "text": [
      "196 \n",
      "182 169 \n",
      "168 156 144 \n",
      "154 143 132 121 \n",
      "140 130 120 110 100 \n",
      "126 117 108 99 90 81 \n",
      "112 104 96 88 80 72 64 \n",
      "98 91 84 77 70 63 56 49 \n",
      "84 78 72 66 60 54 48 42 36 \n",
      "70 65 60 55 50 45 40 35 30 25 \n",
      "56 52 48 44 40 36 32 28 24 20 16 \n",
      "42 39 36 33 30 27 24 21 18 15 12 9 \n",
      "28 26 24 22 20 18 16 14 12 10 8 6 4 \n"
     ]
    }
   ],
   "source": [
    "i = 14\n",
    "while i >= 2:\n",
    "    j = 14\n",
    "    while j>=i:\n",
    "        print(\"%d \" % (i*j), end = '')\n",
    "        j = j - 1\n",
    "    print()\n",
    "    i-=1"
   ]
  },
  {
   "cell_type": "markdown",
   "metadata": {},
   "source": [
    "## Pernyataan Loncat\n",
    "\n",
    "## Exercise 6.\n",
    "\n",
    "Buatlah fungsi berikut agar muncul angka hingga berhenti sesuai dengan nilai qq\n",
    "qq = angka favorit kalian\n",
    "pp>qq"
   ]
  },
  {
   "cell_type": "code",
   "execution_count": 11,
   "metadata": {},
   "outputs": [
    {
     "name": "stdout",
     "output_type": "stream",
     "text": [
      "012345678910"
     ]
    }
   ],
   "source": [
    "for i in range(14):\n",
    "    print(i,end='')\n",
    "    if i == 10:\n",
    "        break"
   ]
  },
  {
   "cell_type": "markdown",
   "metadata": {},
   "source": [
    "***\n",
    "<h1 align=\"center\">WELL DONE</h1>\n",
    " \n",
    "***"
   ]
  }
 ],
 "metadata": {
  "interpreter": {
   "hash": "cd08f94adcf3cbae37fe85286256f4c2a10455ca9094fd053e9f3d3f09647223"
  },
  "kernelspec": {
   "display_name": "Python 3.9.7 64-bit",
   "language": "python",
   "name": "python3"
  },
  "language_info": {
   "codemirror_mode": {
    "name": "ipython",
    "version": 3
   },
   "file_extension": ".py",
   "mimetype": "text/x-python",
   "name": "python",
   "nbconvert_exporter": "python",
   "pygments_lexer": "ipython3",
   "version": "3.10.2"
  },
  "orig_nbformat": 4
 },
 "nbformat": 4,
 "nbformat_minor": 2
}
