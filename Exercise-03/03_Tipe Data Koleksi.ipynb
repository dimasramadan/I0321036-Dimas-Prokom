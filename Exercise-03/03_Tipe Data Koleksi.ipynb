{
 "cells": [
  {
   "cell_type": "markdown",
   "metadata": {},
   "source": [
    "# Exercise 03  \n",
    "### LIST  \n",
    "Berikut merupakan sejumlah latihan untuk kalian dalam praktek programa komputer Modul 3.  \n",
    "Pertama buatlah sebuah list dengan nama variabel \"biodata\" dan isikan elemen terdiri dari :\n",
    "* Nama\n",
    "* NIM\n",
    "* Umur\n",
    "* Kota Asal\n",
    "* Hobi  \n",
    "\n",
    "Berikut contoh yang kami berikan\n"
   ]
  },
  {
   "cell_type": "markdown",
   "metadata": {},
   "source": [
    "![](./image/1.png)"
   ]
  },
  {
   "cell_type": "code",
   "execution_count": 16,
   "metadata": {},
   "outputs": [],
   "source": [
    "#SOAL-1\n",
    "biodata = [\"Dimas Ramadhan\", \"I0321036\", 19, \"Surakarta\", \"Olahraga\"]"
   ]
  },
  {
   "cell_type": "markdown",
   "metadata": {},
   "source": [
    "Sekarang list kalian sudah terdefinisi ke dalam sebuah variabel.  \n",
    "Selanjutnya adalah contoh unuk mengakses elemen list.  \n",
    "  \n",
    "![](./image/2.png)"
   ]
  },
  {
   "cell_type": "code",
   "execution_count": 18,
   "metadata": {},
   "outputs": [
    {
     "name": "stdout",
     "output_type": "stream",
     "text": [
      "BIODATA\n",
      "_________\n",
      "NAMA\t: Dimas Ramadhan \n",
      "NIM\t: I0321036 \n",
      "USIA\t: 19 \n",
      "ASAL\t: Surakarta \n",
      "HOBI\t: Olahraga\n"
     ]
    }
   ],
   "source": [
    "#SOAL-2\n",
    "print(\"BIODATA\\n_________\\nNAMA\\t:\", biodata[0], \"\\nNIM\\t:\", biodata[1] , \"\\nUSIA\\t:\", biodata[2], \"\\nASAL\\t:\", biodata[3] , \"\\nHOBI\\t:\", biodata[4])"
   ]
  },
  {
   "cell_type": "markdown",
   "metadata": {},
   "source": [
    "Ternyata kita ingin menuliskan hobi lebih dari 1, maka selanjutnya kita akan mengubah hobi kita yang ada di list. Karena lebih dari 1 maka kita akan mengubah elemen hobi menjadi list of list.  \n",
    "\n",
    "![](./image/3.png)\n"
   ]
  },
  {
   "cell_type": "code",
   "execution_count": 19,
   "metadata": {},
   "outputs": [
    {
     "name": "stdout",
     "output_type": "stream",
     "text": [
      "['Dimas Ramadhan', 'I0321036', 19, 'Surakarta', ['Olahraga', 'Mendengarkan Musik', 'Menulis']]\n"
     ]
    }
   ],
   "source": [
    "#SOAL-3\n",
    "biodata[4] = [\"Olahraga\", \"Mendengarkan Musik\", \"Menulis\"]\n",
    "print(biodata)"
   ]
  },
  {
   "cell_type": "markdown",
   "metadata": {},
   "source": [
    "NIM merupakan data privasi di kondisi tertentu, maka sebaiknya kita menghapus nya.  \n",
    "\n",
    "![](./image/4.png)\n"
   ]
  },
  {
   "cell_type": "code",
   "execution_count": 20,
   "metadata": {},
   "outputs": [
    {
     "name": "stdout",
     "output_type": "stream",
     "text": [
      "['Dimas Ramadhan', 19, 'Surakarta', ['Olahraga', 'Mendengarkan Musik', 'Menulis']]\n"
     ]
    }
   ],
   "source": [
    "#SOAL-4\n",
    "biodata.remove(\"I0321036\")\n",
    "print(biodata)"
   ]
  },
  {
   "cell_type": "markdown",
   "metadata": {},
   "source": [
    "Untuk report final tuliskan kembali kode dengan format output seperti SOAL-2, namun dengan penyesuaian terhadap perubahan yang telah kalian lakukan sebelumnya."
   ]
  },
  {
   "cell_type": "code",
   "execution_count": 21,
   "metadata": {},
   "outputs": [
    {
     "name": "stdout",
     "output_type": "stream",
     "text": [
      "BIODATA\n",
      "_________\n",
      "NAMA\t: Dimas Ramadhan \n",
      "USIA\t: 19 \n",
      "ASAL\t: Surakarta \n",
      "HOBI\t: Olahraga, Mendengarkan Musik, Menulis\n"
     ]
    }
   ],
   "source": [
    "#SOAL-5\n",
    "print(\"BIODATA\\n_________\\nNAMA\\t:\", biodata[0], \"\\nUSIA\\t:\", biodata[1], \"\\nASAL\\t:\", biodata[2] , \"\\nHOBI\\t:\", biodata[3][0]+\",\", biodata[3][1]+\",\", biodata[3][2])"
   ]
  },
  {
   "cell_type": "markdown",
   "metadata": {},
   "source": [
    "### DICTIONARY"
   ]
  },
  {
   "cell_type": "markdown",
   "metadata": {},
   "source": [
    "Berikut merupakan latihan mengenai tipe data dictionary.  \n",
    "Selamat berlatih.  \n",
    "Semangat!!!."
   ]
  },
  {
   "cell_type": "code",
   "execution_count": 26,
   "metadata": {},
   "outputs": [
    {
     "name": "stdout",
     "output_type": "stream",
     "text": [
      "Nama Lengkap: Dimas Ramadhan\n",
      "{'nama_depan': 'Dimas', 'nama_belakang': 'Ramadhan', 'usia': 19, 'kota_asal': 'Surakarta', 'hobi': 'Olahraga', 'PRODI': 'Teknik Industri'}\n",
      "{'nama_depan': 'Dimas', 'nama_belakang': 'Ramadhan', 'usia': 19, 'kota_asal': 'Surakarta', 'hobi': 'Mendengarkan Musik', 'PRODI': 'Teknik Industri'}\n",
      "{'nama_depan': 'Dimas', 'nama_belakang': 'Ramadhan', 'usia': 19, 'hobi': 'Mendengarkan Musik', 'PRODI': 'Teknik Industri'}\n"
     ]
    }
   ],
   "source": [
    "#SILAHKAN ISI CODE RUMPANG BERIKUT SESUAI KONDISI KALIAN\n",
    "biodata = {'nama_depan':'Dimas','nama_belakang':'Ramadhan','usia':19,'kota_asal':'Surakarta','hobi':'Olahraga'}\n",
    "print('Nama Lengkap: ' + biodata['nama_depan'] + ' ' + biodata['nama_belakang'])\n",
    "\n",
    "#MENAMBAHKAN KEY&VALUE \"PRODI\" dan \"HOBI\" MASING-MASING\n",
    "biodata['PRODI'] = 'Teknik Industri'\n",
    "print(biodata)\n",
    "\n",
    "#MENGUBAH VALUE PADA SEBUAH DICTIONARY\n",
    "biodata['hobi'] = 'Mendengarkan Musik'\n",
    "print(biodata)\n",
    "\n",
    "#MENGHAPUS SALAH SATU KEY-VALUE PAIRS\n",
    "del biodata['kota_asal']\n",
    "print(biodata)\n",
    "\n",
    "\n",
    "\n",
    "\n"
   ]
  },
  {
   "cell_type": "markdown",
   "metadata": {},
   "source": [
    "### Cara Pengumpulan\n",
    "\n",
    "1. Buka *New Terminal*\n",
    "2. Pastikan *path* Terminal adalah folder repositori kalian (NIM-Nama-Prokom).\n",
    "3. Tambahkan file yang akan ditrack dengan `git add <nama file>`. Nama file bisa diubah . (titik)  `git add .`yang artinya semua file dalam folder akan ditrack.\n",
    "4. Lakukan commit perubahan dengan `git commit -m <deskripsi>`.\n",
    "5. Lakukan push dengan `git push -u origin <nama branch>`. Nama branch dapat diketahui dengan `git branch`.\n",
    "6. Pastikan Exercise-02 telah terupload dan dapat diakses di repositori dengan mengaksesnya di browser."
   ]
  }
 ],
 "metadata": {
  "interpreter": {
   "hash": "ac59ebe37160ed0dfa835113d9b8498d9f09ceb179beaac4002f036b9467c963"
  },
  "kernelspec": {
   "display_name": "Python 3.9.8 64-bit",
   "language": "python",
   "name": "python3"
  },
  "language_info": {
   "codemirror_mode": {
    "name": "ipython",
    "version": 3
   },
   "file_extension": ".py",
   "mimetype": "text/x-python",
   "name": "python",
   "nbconvert_exporter": "python",
   "pygments_lexer": "ipython3",
   "version": "3.10.2"
  },
  "orig_nbformat": 4
 },
 "nbformat": 4,
 "nbformat_minor": 2
}
